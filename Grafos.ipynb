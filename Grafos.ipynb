{
 "cells": [
  {
   "cell_type": "code",
   "execution_count": 57,
   "metadata": {},
   "outputs": [],
   "source": [
    "#Imports\n",
    "import networkx as nx\n",
    "import matplotlib.pyplot as plt\n",
    "import pandas as pd\n",
    "import numpy as np\n",
    "dado = pd.read_csv(\"graph.csv\")"
   ]
  },
  {
   "cell_type": "code",
   "execution_count": 58,
   "metadata": {},
   "outputs": [
    {
     "data": {
      "text/html": [
       "<div>\n",
       "<style scoped>\n",
       "    .dataframe tbody tr th:only-of-type {\n",
       "        vertical-align: middle;\n",
       "    }\n",
       "\n",
       "    .dataframe tbody tr th {\n",
       "        vertical-align: top;\n",
       "    }\n",
       "\n",
       "    .dataframe thead th {\n",
       "        text-align: right;\n",
       "    }\n",
       "</style>\n",
       "<table border=\"1\" class=\"dataframe\">\n",
       "  <thead>\n",
       "    <tr style=\"text-align: right;\">\n",
       "      <th></th>\n",
       "      <th>vertice</th>\n",
       "      <th>adjacente</th>\n",
       "      <th>peso</th>\n",
       "      <th>color</th>\n",
       "    </tr>\n",
       "  </thead>\n",
       "  <tbody>\n",
       "    <tr>\n",
       "      <th>0</th>\n",
       "      <td>X</td>\n",
       "      <td>A-B-C</td>\n",
       "      <td>40-37-100</td>\n",
       "      <td>green</td>\n",
       "    </tr>\n",
       "    <tr>\n",
       "      <th>1</th>\n",
       "      <td>A</td>\n",
       "      <td>B</td>\n",
       "      <td>39-68</td>\n",
       "      <td>green</td>\n",
       "    </tr>\n",
       "    <tr>\n",
       "      <th>2</th>\n",
       "      <td>B</td>\n",
       "      <td>X</td>\n",
       "      <td>55</td>\n",
       "      <td>blue</td>\n",
       "    </tr>\n",
       "    <tr>\n",
       "      <th>3</th>\n",
       "      <td>C</td>\n",
       "      <td>NaN</td>\n",
       "      <td>NaN</td>\n",
       "      <td>blue</td>\n",
       "    </tr>\n",
       "  </tbody>\n",
       "</table>\n",
       "</div>"
      ],
      "text/plain": [
       "  vertice adjacente       peso  color\n",
       "0       X     A-B-C  40-37-100  green\n",
       "1       A         B      39-68  green\n",
       "2       B         X         55   blue\n",
       "3       C       NaN        NaN   blue"
      ]
     },
     "execution_count": 58,
     "metadata": {},
     "output_type": "execute_result"
    }
   ],
   "source": [
    "dado.head()"
   ]
  },
  {
   "cell_type": "code",
   "execution_count": 59,
   "metadata": {},
   "outputs": [],
   "source": [
    "#Criando grafo e adicionando vertices\n",
    "graph = nx.Graph()\n",
    "graph.add_nodes_from(dado.vertice)"
   ]
  },
  {
   "cell_type": "code",
   "execution_count": 60,
   "metadata": {},
   "outputs": [
    {
     "name": "stdout",
     "output_type": "stream",
     "text": [
      "X A 40\n",
      "X B 37\n",
      "X C 100\n",
      "A B 39\n",
      "B X 55\n"
     ]
    }
   ],
   "source": [
    "for i in range(len(dado.vertice.values)):\n",
    "    if pd.isnull(dado.adjacente[i]) == False:\n",
    "        edges = dado.adjacente[i].split(\"-\")\n",
    "        pesos = dado.peso[i].split(\"-\")\n",
    "        for j in range(len(edges)):\n",
    "            print(dado.vertice[i],edges[j],pesos[j])\n",
    "            graph.add_weighted_edges_from([(dado.vertice[i],edges[j],pesos[j])]) #Arestas com pesos\n"
   ]
  },
  {
   "cell_type": "code",
   "execution_count": 61,
   "metadata": {
    "scrolled": true
   },
   "outputs": [
    {
     "data": {
      "text/plain": [
       "AtlasView({'A': {'weight': '40'}, 'B': {'weight': '55'}, 'C': {'weight': '100'}})"
      ]
     },
     "execution_count": 61,
     "metadata": {},
     "output_type": "execute_result"
    }
   ],
   "source": [
    "graph[\"X\"]"
   ]
  },
  {
   "cell_type": "code",
   "execution_count": 62,
   "metadata": {},
   "outputs": [],
   "source": [
    "edges = graph.edges\n",
    "weights = [graph[u][v]['weight'] for u,v in edges]"
   ]
  },
  {
   "cell_type": "code",
   "execution_count": 63,
   "metadata": {},
   "outputs": [
    {
     "name": "stdout",
     "output_type": "stream",
     "text": [
      "[40, 55, 100, 39]\n",
      "[4.0, 5.5, 10.0, 3.9000000000000004]\n"
     ]
    }
   ],
   "source": [
    "for i in range(len(weights)):\n",
    "    weights[i] = int(weights[i])\n",
    "print(weights)\n",
    "weights_f = [*map(lambda el: el / max(weights) * 10, weights)]\n",
    "print(weights_f)\n"
   ]
  },
  {
   "cell_type": "code",
   "execution_count": 64,
   "metadata": {},
   "outputs": [],
   "source": [
    "edges= []\n",
    "for i in graph.edges:\n",
    "    edges.append(i)"
   ]
  },
  {
   "cell_type": "code",
   "execution_count": 65,
   "metadata": {},
   "outputs": [
    {
     "data": {
      "text/plain": [
       "[40, 55, 100, 39]"
      ]
     },
     "execution_count": 65,
     "metadata": {},
     "output_type": "execute_result"
    }
   ],
   "source": [
    "edge_labels = {}\n",
    "for i in range(len(edges)):\n",
    "    edge_labels[edges[i]] = weights[i]\n",
    "weights"
   ]
  },
  {
   "cell_type": "code",
   "execution_count": 66,
   "metadata": {},
   "outputs": [
    {
     "name": "stdout",
     "output_type": "stream",
     "text": [
      "[177, 107, 55, 1]\n"
     ]
    }
   ],
   "source": [
    "weights_node = []\n",
    "for i in range(len(dado.peso.values)):\n",
    "    if pd.isnull(dado.adjacente[i]) == False:\n",
    "        aux = dado.peso[i].split(\"-\")\n",
    "        for i in range(len(aux)):\n",
    "            aux[i] = int(aux[i])\n",
    "        weights_node.append(sum(aux))\n",
    "    else:\n",
    "        weights_node.append(1)\n",
    "print(weights_node)"
   ]
  },
  {
   "cell_type": "code",
   "execution_count": 67,
   "metadata": {},
   "outputs": [],
   "source": [
    "weights_node = [*map(lambda el: el / max(weights_node) * 1e4, weights_node)]"
   ]
  },
  {
   "cell_type": "code",
   "execution_count": 70,
   "metadata": {
    "scrolled": true
   },
   "outputs": [
    {
     "name": "stderr",
     "output_type": "stream",
     "text": [
      "/home/roque/anaconda3/lib/python3.7/site-packages/networkx/drawing/nx_pylab.py:611: MatplotlibDeprecationWarning: isinstance(..., numbers.Number)\n",
      "  if cb.is_numlike(alpha):\n"
     ]
    },
    {
     "data": {
      "text/plain": [
       "{('X', 'A'): Text(0.4999999751630862, 0.5000000109278468, '40'),\n",
       " ('X', 'B'): Text(7.946626690014114e-09, -2.1855693665697605e-08, '55'),\n",
       " ('X', 'C'): Text(0.50000000298122, -0.49999996721645945, '100'),\n",
       " ('A', 'B'): Text(-0.50000000298122, 0.4999999672164595, '39')}"
      ]
     },
     "execution_count": 70,
     "metadata": {},
     "output_type": "execute_result"
    },
    {
     "data": {
      "image/png": "[encoded data removed]",
      "text/plain": [
       "<Figure size 432x288 with 1 Axes>"
      ]
     },
     "metadata": {},
     "output_type": "display_data"
    }
   ],
   "source": [
    "pos = nx.circular_layout(graph)\n",
    "nx.draw(graph,pos,node_color=dado.color.values,node_size=weights_node, with_labels=True, font_weight='bold',width=weights_f)\n",
    "edge_labels = nx.get_edge_attributes(graph,'weight')\n",
    "nx.draw_networkx_edge_labels(graph, pos, edge_labels = edge_labels)"
   ]
  },
  {
   "cell_type": "code",
   "execution_count": 69,
   "metadata": {},
   "outputs": [
    {
     "data": {
      "text/plain": [
       "AtlasView({'X': {'weight': '40'}, 'B': {'weight': '39'}})"
      ]
     },
     "execution_count": 69,
     "metadata": {},
     "output_type": "execute_result"
    }
   ],
   "source": [
    "graph.adj[\"A\"]"
   ]
  }
 ],
 "metadata": {
  "kernelspec": {
   "display_name": "Python 3",
   "language": "python",
   "name": "python3"
  },
  "language_info": {
   "codemirror_mode": {
    "name": "ipython",
    "version": 3
   },
   "file_extension": ".py",
   "mimetype": "text/x-python",
   "name": "python",
   "nbconvert_exporter": "python",
   "pygments_lexer": "ipython3",
   "version": "3.7.1"
  }
 },
 "nbformat": 4,
 "nbformat_minor": 2
}
