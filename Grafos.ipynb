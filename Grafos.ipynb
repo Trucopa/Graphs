{
 "cells": [
  {
   "cell_type": "code",
   "execution_count": 75,
   "metadata": {},
   "outputs": [],
   "source": [
    "#Imports\n",
    "import networkx as nx\n",
    "import matplotlib.pyplot as plt\n",
    "import pandas as pd\n",
    "import numpy as np\n",
    "dado = pd.read_csv(\"graph.csv\")"
   ]
  },
  {
   "cell_type": "code",
   "execution_count": 76,
   "metadata": {},
   "outputs": [
    {
     "data": {
      "text/html": [
       "<div>\n",
       "<style scoped>\n",
       "    .dataframe tbody tr th:only-of-type {\n",
       "        vertical-align: middle;\n",
       "    }\n",
       "\n",
       "    .dataframe tbody tr th {\n",
       "        vertical-align: top;\n",
       "    }\n",
       "\n",
       "    .dataframe thead th {\n",
       "        text-align: right;\n",
       "    }\n",
       "</style>\n",
       "<table border=\"1\" class=\"dataframe\">\n",
       "  <thead>\n",
       "    <tr style=\"text-align: right;\">\n",
       "      <th></th>\n",
       "      <th>vertice</th>\n",
       "      <th>adjacente</th>\n",
       "      <th>peso</th>\n",
       "      <th>color</th>\n",
       "    </tr>\n",
       "  </thead>\n",
       "  <tbody>\n",
       "    <tr>\n",
       "      <th>0</th>\n",
       "      <td>Elthon</td>\n",
       "      <td>Computação-Administração-Medicina</td>\n",
       "      <td>100-37-40</td>\n",
       "      <td>green</td>\n",
       "    </tr>\n",
       "    <tr>\n",
       "      <th>1</th>\n",
       "      <td>Patrick</td>\n",
       "      <td>Computação-Administração</td>\n",
       "      <td>60-10</td>\n",
       "      <td>green</td>\n",
       "    </tr>\n",
       "    <tr>\n",
       "      <th>2</th>\n",
       "      <td>Zezinha</td>\n",
       "      <td>Medicina</td>\n",
       "      <td>40</td>\n",
       "      <td>green</td>\n",
       "    </tr>\n",
       "    <tr>\n",
       "      <th>3</th>\n",
       "      <td>Computação</td>\n",
       "      <td>NaN</td>\n",
       "      <td>NaN</td>\n",
       "      <td>red</td>\n",
       "    </tr>\n",
       "    <tr>\n",
       "      <th>4</th>\n",
       "      <td>Administração</td>\n",
       "      <td>Elthon</td>\n",
       "      <td>55</td>\n",
       "      <td>red</td>\n",
       "    </tr>\n",
       "  </tbody>\n",
       "</table>\n",
       "</div>"
      ],
      "text/plain": [
       "         vertice                          adjacente       peso  color\n",
       "0         Elthon  Computação-Administração-Medicina  100-37-40  green\n",
       "1        Patrick           Computação-Administração      60-10  green\n",
       "2        Zezinha                           Medicina         40  green\n",
       "3     Computação                                NaN        NaN    red\n",
       "4  Administração                             Elthon         55    red"
      ]
     },
     "execution_count": 76,
     "metadata": {},
     "output_type": "execute_result"
    }
   ],
   "source": [
    "dado.head()"
   ]
  },
  {
   "cell_type": "code",
   "execution_count": 77,
   "metadata": {},
   "outputs": [],
   "source": [
    "#Criando grafo e adicionando vertices\n",
    "graph = nx.Graph()\n",
    "graph.add_nodes_from(dado.vertice)"
   ]
  },
  {
   "cell_type": "code",
   "execution_count": 78,
   "metadata": {},
   "outputs": [
    {
     "name": "stdout",
     "output_type": "stream",
     "text": [
      "Elthon Computação 100\n",
      "Elthon Administração 37\n",
      "Elthon Medicina 40\n",
      "Patrick Computação 60\n",
      "Patrick Administração 10\n",
      "Zezinha Medicina 40\n",
      "Administração Elthon 55\n"
     ]
    }
   ],
   "source": [
    "for i in range(len(dado.vertice.values)):\n",
    "    if pd.isnull(dado.adjacente[i]) == False:\n",
    "        edges = dado.adjacente[i].split(\"-\")\n",
    "        pesos = dado.peso[i].split(\"-\")\n",
    "        for j in range(len(edges)):\n",
    "            print(dado.vertice[i],edges[j],pesos[j])\n",
    "            graph.add_weighted_edges_from([(dado.vertice[i],edges[j],pesos[j])]) #Arestas com pesos\n"
   ]
  },
  {
   "cell_type": "code",
   "execution_count": 79,
   "metadata": {
    "scrolled": true
   },
   "outputs": [],
   "source": [
    "#graph[\"X\"]"
   ]
  },
  {
   "cell_type": "code",
   "execution_count": 80,
   "metadata": {},
   "outputs": [],
   "source": [
    "edges = graph.edges\n",
    "weights = [graph[u][v]['weight'] for u,v in edges]"
   ]
  },
  {
   "cell_type": "code",
   "execution_count": 81,
   "metadata": {},
   "outputs": [
    {
     "name": "stdout",
     "output_type": "stream",
     "text": [
      "[100, 55, 40, 60, 10, 40]\n",
      "[10.0, 5.5, 4.0, 6.0, 1.0, 4.0]\n"
     ]
    }
   ],
   "source": [
    "for i in range(len(weights)):\n",
    "    weights[i] = int(weights[i])\n",
    "print(weights)\n",
    "weights_f = [*map(lambda el: el / max(weights) * 10, weights)]\n",
    "print(weights_f)\n"
   ]
  },
  {
   "cell_type": "code",
   "execution_count": 82,
   "metadata": {},
   "outputs": [],
   "source": [
    "edges= []\n",
    "for i in graph.edges:\n",
    "    edges.append(i)"
   ]
  },
  {
   "cell_type": "code",
   "execution_count": 83,
   "metadata": {},
   "outputs": [
    {
     "data": {
      "text/plain": [
       "[100, 55, 40, 60, 10, 40]"
      ]
     },
     "execution_count": 83,
     "metadata": {},
     "output_type": "execute_result"
    }
   ],
   "source": [
    "edge_labels = {}\n",
    "for i in range(len(edges)):\n",
    "    edge_labels[edges[i]] = weights[i]\n",
    "weights"
   ]
  },
  {
   "cell_type": "code",
   "execution_count": 84,
   "metadata": {},
   "outputs": [
    {
     "name": "stdout",
     "output_type": "stream",
     "text": [
      "[177, 70, 40, 1, 55, 1, 1]\n"
     ]
    }
   ],
   "source": [
    "weights_node = []\n",
    "for i in range(len(dado.peso.values)):\n",
    "    if pd.isnull(dado.adjacente[i]) == False:\n",
    "        aux = dado.peso[i].split(\"-\")\n",
    "        for i in range(len(aux)):\n",
    "            aux[i] = int(aux[i])\n",
    "        weights_node.append(sum(aux))\n",
    "    else:\n",
    "        weights_node.append(1)\n",
    "print(weights_node)"
   ]
  },
  {
   "cell_type": "code",
   "execution_count": 85,
   "metadata": {},
   "outputs": [],
   "source": [
    "weights_node = [*map(lambda el: el / max(weights_node) * 1e4, weights_node)]"
   ]
  },
  {
   "cell_type": "code",
   "execution_count": 86,
   "metadata": {
    "scrolled": true
   },
   "outputs": [
    {
     "data": {
      "text/plain": [
       "{('Elthon',\n",
       "  'Computação'): Text(0.04951559945049633, 0.21694191097510088, '100'),\n",
       " ('Elthon',\n",
       "  'Administração'): Text(0.04951559945049633, -0.2169418641428812, '55'),\n",
       " ('Elthon', 'Medicina'): Text(0.3887395120840538, -0.48746393014369865, '40'),\n",
       " ('Patrick',\n",
       "  'Computação'): Text(-0.1387394971828929, 0.6078576524464321, '60'),\n",
       " ('Patrick',\n",
       "  'Administração'): Text(-0.1387394971828929, 0.17397387732845007, '10'),\n",
       " ('Zezinha',\n",
       "  'Medicina'): Text(-0.2225209460295708, 8.514949079163614e-09, '40')}"
      ]
     },
     "execution_count": 86,
     "metadata": {},
     "output_type": "execute_result"
    },
    {
     "data": {
      "image/png": "[encoded data removed]",
      "text/plain": [
       "<Figure size 432x288 with 1 Axes>"
      ]
     },
     "metadata": {},
     "output_type": "display_data"
    }
   ],
   "source": [
    "pos = nx.circular_layout(graph)\n",
    "nx.draw(graph,\n",
    "        pos,\n",
    "        node_color=dado.color.values,\n",
    "        node_size=weights_node,\n",
    "        with_labels=True,alpha = 0.7,\n",
    "        font_weight='bold',\n",
    "        width=weights_f)\n",
    "\n",
    "edge_labels = nx.get_edge_attributes(graph,'weight')\n",
    "nx.draw_networkx_edge_labels(graph, pos, edge_labels = edge_labels)"
   ]
  },
  {
   "cell_type": "code",
   "execution_count": 87,
   "metadata": {},
   "outputs": [
    {
     "ename": "KeyError",
     "evalue": "'A'",
     "output_type": "error",
     "traceback": [
      "\u001b[1;31m---------------------------------------------------------------------------\u001b[0m",
      "\u001b[1;31mKeyError\u001b[0m                                  Traceback (most recent call last)",
      "\u001b[1;32m<ipython-input-87-f9ccac8e2bd6>\u001b[0m in \u001b[0;36m<module>\u001b[1;34m\u001b[0m\n\u001b[1;32m----> 1\u001b[1;33m \u001b[0mgraph\u001b[0m\u001b[1;33m.\u001b[0m\u001b[0madj\u001b[0m\u001b[1;33m[\u001b[0m\u001b[1;34m\"A\"\u001b[0m\u001b[1;33m]\u001b[0m\u001b[1;33m\u001b[0m\u001b[1;33m\u001b[0m\u001b[0m\n\u001b[0m",
      "\u001b[1;32m~\\Anaconda3\\lib\\site-packages\\networkx\\classes\\coreviews.py\u001b[0m in \u001b[0;36m__getitem__\u001b[1;34m(self, name)\u001b[0m\n\u001b[0;32m     79\u001b[0m \u001b[1;33m\u001b[0m\u001b[0m\n\u001b[0;32m     80\u001b[0m     \u001b[1;32mdef\u001b[0m \u001b[0m__getitem__\u001b[0m\u001b[1;33m(\u001b[0m\u001b[0mself\u001b[0m\u001b[1;33m,\u001b[0m \u001b[0mname\u001b[0m\u001b[1;33m)\u001b[0m\u001b[1;33m:\u001b[0m\u001b[1;33m\u001b[0m\u001b[1;33m\u001b[0m\u001b[0m\n\u001b[1;32m---> 81\u001b[1;33m         \u001b[1;32mreturn\u001b[0m \u001b[0mAtlasView\u001b[0m\u001b[1;33m(\u001b[0m\u001b[0mself\u001b[0m\u001b[1;33m.\u001b[0m\u001b[0m_atlas\u001b[0m\u001b[1;33m[\u001b[0m\u001b[0mname\u001b[0m\u001b[1;33m]\u001b[0m\u001b[1;33m)\u001b[0m\u001b[1;33m\u001b[0m\u001b[1;33m\u001b[0m\u001b[0m\n\u001b[0m\u001b[0;32m     82\u001b[0m \u001b[1;33m\u001b[0m\u001b[0m\n\u001b[0;32m     83\u001b[0m     \u001b[1;32mdef\u001b[0m \u001b[0mcopy\u001b[0m\u001b[1;33m(\u001b[0m\u001b[0mself\u001b[0m\u001b[1;33m)\u001b[0m\u001b[1;33m:\u001b[0m\u001b[1;33m\u001b[0m\u001b[1;33m\u001b[0m\u001b[0m\n",
      "\u001b[1;31mKeyError\u001b[0m: 'A'"
     ]
    }
   ],
   "source": [
    "graph.adj[\"A\"]"
   ]
  }
 ],
 "metadata": {
  "kernelspec": {
   "display_name": "Python 3",
   "language": "python",
   "name": "python3"
  },
  "language_info": {
   "codemirror_mode": {
    "name": "ipython",
    "version": 3
   },
   "file_extension": ".py",
   "mimetype": "text/x-python",
   "name": "python",
   "nbconvert_exporter": "python",
   "pygments_lexer": "ipython3",
   "version": "3.7.1"
  }
 },
 "nbformat": 4,
 "nbformat_minor": 2
}
